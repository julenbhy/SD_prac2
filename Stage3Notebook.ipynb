{
 "cells": [
  {
   "cell_type": "code",
   "execution_count": 3,
   "id": "3527eb52",
   "metadata": {},
   "outputs": [],
   "source": [
    "#Run the main program for generating a new database on the database directory based on the ISSUES list"
   ]
  },
  {
   "cell_type": "code",
   "execution_count": 4,
   "id": "f813f43c",
   "metadata": {
    "scrolled": true
   },
   "outputs": [
    {
     "name": "stderr",
     "output_type": "stream",
     "text": [
      "2021-06-19 20:43:52,022 [INFO] lithops.config -- Lithops v2.3.4\n",
      "2021-06-19 20:43:52,050 [INFO] lithops.storage.backends.localhost.localhost -- Localhost Storage client created\n",
      "2021-06-19 20:43:52,051 [INFO] lithops.localhost.localhost -- Localhost compute client created\n",
      "2021-06-19 20:43:52,053 [INFO] lithops.executors -- Localhost Executor created with ID: 1eee01-0\n",
      "2021-06-19 20:43:52,054 [INFO] lithops.invokers -- ExecutorID 1eee01-0 | JobID M000 - Selected Runtime: python3 \n",
      "2021-06-19 20:43:52,134 [INFO] lithops.job.job -- ExecutorID 1eee01-0 | JobID M000 - Uploading function and data - Total: 2.2KiB\n",
      "2021-06-19 20:43:52,146 [INFO] lithops.invokers -- ExecutorID 1eee01-0 | JobID M000 - Starting function invocation: CloudWorker() - Total: 7 activations\n",
      "2021-06-19 20:43:52,191 [INFO] lithops.invokers -- ExecutorID 1eee01-0 | JobID M000 - View execution logs at /tmp/lithops/logs/1eee01-0-M000.log\n",
      "2021-06-19 20:43:52,199 [INFO] lithops.wait -- ExecutorID 1eee01-0 - Waiting for functions to complete\n"
     ]
    },
    {
     "data": {
      "application/vnd.jupyter.widget-view+json": {
       "model_id": "bdee99f4ff4142d388f6e82b60f42fca",
       "version_major": 2,
       "version_minor": 0
      },
      "text/plain": [
       "    0%|          | 0/7  "
      ]
     },
     "metadata": {},
     "output_type": "display_data"
    },
    {
     "name": "stderr",
     "output_type": "stream",
     "text": [
      "2021-06-19 20:43:59,672 [INFO] lithops.executors -- ExecutorID 1eee01-0 - Cleaning temporary data\n",
      "2021-06-19 20:43:59,783 [INFO] lithops.wait -- ExecutorID 1eee01-0 - Getting results from functions\n",
      "2021-06-19 20:43:59,785 [INFO] lithops.invokers -- ExecutorID 1eee01-0 | JobID M001 - Selected Runtime: python3 \n",
      "2021-06-19 20:43:59,792 [INFO] lithops.job.job -- ExecutorID 1eee01-0 | JobID M001 - Uploading function and data - Total: 2.0KiB\n",
      "2021-06-19 20:43:59,799 [INFO] lithops.invokers -- ExecutorID 1eee01-0 | JobID M001 - Starting function invocation: CloudWorker() - Total: 7 activations\n",
      "2021-06-19 20:43:59,820 [INFO] lithops.invokers -- ExecutorID 1eee01-0 | JobID M001 - View execution logs at /tmp/lithops/logs/1eee01-0-M001.log\n",
      "2021-06-19 20:43:59,850 [INFO] lithops.wait -- ExecutorID 1eee01-0 - Waiting for functions to complete\n"
     ]
    },
    {
     "data": {
      "application/vnd.jupyter.widget-view+json": {
       "model_id": "69583448a1444600aeb26cfb78f4f4b6",
       "version_major": 2,
       "version_minor": 0
      },
      "text/plain": [
       "    0%|          | 0/7  "
      ]
     },
     "metadata": {},
     "output_type": "display_data"
    },
    {
     "name": "stderr",
     "output_type": "stream",
     "text": [
      "2021-06-19 20:44:06,188 [INFO] lithops.executors -- ExecutorID 1eee01-0 - Cleaning temporary data\n",
      "2021-06-19 20:44:06,212 [INFO] lithops.wait -- ExecutorID 1eee01-0 - Getting results from functions\n"
     ]
    }
   ],
   "source": [
    "%run analyzer.py"
   ]
  },
  {
   "cell_type": "code",
   "execution_count": 5,
   "id": "3a0e47e9",
   "metadata": {},
   "outputs": [],
   "source": [
    "#Obtain the average sentiment of the tweets of each ISSUE"
   ]
  },
  {
   "cell_type": "code",
   "execution_count": 6,
   "id": "986fd476",
   "metadata": {
    "scrolled": true
   },
   "outputs": [
    {
     "name": "stderr",
     "output_type": "stream",
     "text": [
      "2021-06-19 20:44:34,886 [INFO] lithops.config -- Lithops v2.3.4\n",
      "2021-06-19 20:44:34,887 [INFO] lithops.storage.backends.localhost.localhost -- Localhost Storage client created\n",
      "2021-06-19 20:44:34,889 [INFO] lithops.localhost.localhost -- Localhost compute client created\n",
      "2021-06-19 20:44:34,890 [INFO] lithops.executors -- Localhost Executor created with ID: 1eee01-1\n",
      "2021-06-19 20:44:34,891 [INFO] lithops.invokers -- ExecutorID 1eee01-1 | JobID M000 - Selected Runtime: python3 \n",
      "2021-06-19 20:44:34,898 [INFO] lithops.job.job -- ExecutorID 1eee01-1 | JobID M000 - Uploading function and data - Total: 1.2KiB\n",
      "2021-06-19 20:44:34,900 [INFO] lithops.invokers -- ExecutorID 1eee01-1 | JobID M000 - Starting function invocation: CloudWorker() - Total: 7 activations\n",
      "2021-06-19 20:44:34,913 [INFO] lithops.invokers -- ExecutorID 1eee01-1 | JobID M000 - View execution logs at /tmp/lithops/logs/1eee01-1-M000.log\n",
      "2021-06-19 20:44:34,925 [INFO] lithops.wait -- ExecutorID 1eee01-1 - Waiting for functions to complete\n"
     ]
    },
    {
     "data": {
      "application/vnd.jupyter.widget-view+json": {
       "model_id": "4ef9f1b23ba94bd4b68f05f3a617bdaa",
       "version_major": 2,
       "version_minor": 0
      },
      "text/plain": [
       "    0%|          | 0/7  "
      ]
     },
     "metadata": {},
     "output_type": "display_data"
    },
    {
     "name": "stderr",
     "output_type": "stream",
     "text": [
      "2021-06-19 20:44:37,995 [INFO] lithops.wait -- ExecutorID 1eee01-1 - Getting results from functions\n"
     ]
    },
    {
     "data": {
      "application/vnd.jupyter.widget-view+json": {
       "model_id": "5593d8130f0749d0be695f44214ad641",
       "version_major": 2,
       "version_minor": 0
      },
      "text/plain": [
       "    0%|          | 0/7  "
      ]
     },
     "metadata": {},
     "output_type": "display_data"
    },
    {
     "name": "stderr",
     "output_type": "stream",
     "text": [
      "2021-06-19 20:44:38,118 [INFO] lithops.executors -- ExecutorID 1eee01-1 - Cleaning temporary data\n"
     ]
    }
   ],
   "source": [
    "with Pool() as pool:\n",
    "    avg = pool.starmap(average_sentiment, ISSUES)"
   ]
  },
  {
   "cell_type": "code",
   "execution_count": 7,
   "id": "a43e0c51",
   "metadata": {},
   "outputs": [],
   "source": [
    "#Generate a panda DataFrame and display it"
   ]
  },
  {
   "cell_type": "code",
   "execution_count": 15,
   "id": "56fe1019",
   "metadata": {},
   "outputs": [],
   "source": [
    "df = pd.DataFrame(avg, columns=[\"Issue\", \"Sentiment Average\", \"Length Average\"])"
   ]
  },
  {
   "cell_type": "code",
   "execution_count": 16,
   "id": "b512ded1",
   "metadata": {
    "scrolled": false
   },
   "outputs": [
    {
     "data": {
      "text/html": [
       "<div>\n",
       "<style scoped>\n",
       "    .dataframe tbody tr th:only-of-type {\n",
       "        vertical-align: middle;\n",
       "    }\n",
       "\n",
       "    .dataframe tbody tr th {\n",
       "        vertical-align: top;\n",
       "    }\n",
       "\n",
       "    .dataframe thead th {\n",
       "        text-align: right;\n",
       "    }\n",
       "</style>\n",
       "<table border=\"1\" class=\"dataframe\">\n",
       "  <thead>\n",
       "    <tr style=\"text-align: right;\">\n",
       "      <th></th>\n",
       "      <th>Issue</th>\n",
       "      <th>Sentiment Average</th>\n",
       "      <th>Length Average</th>\n",
       "    </tr>\n",
       "  </thead>\n",
       "  <tbody>\n",
       "    <tr>\n",
       "      <th>0</th>\n",
       "      <td>palestine</td>\n",
       "      <td>0.005629</td>\n",
       "      <td>27.5</td>\n",
       "    </tr>\n",
       "    <tr>\n",
       "      <th>1</th>\n",
       "      <td>gaza</td>\n",
       "      <td>0.076667</td>\n",
       "      <td>34.7</td>\n",
       "    </tr>\n",
       "    <tr>\n",
       "      <th>2</th>\n",
       "      <td>israel</td>\n",
       "      <td>-0.025000</td>\n",
       "      <td>32.3</td>\n",
       "    </tr>\n",
       "    <tr>\n",
       "      <th>3</th>\n",
       "      <td>#EURO2020</td>\n",
       "      <td>0.028023</td>\n",
       "      <td>19.2</td>\n",
       "    </tr>\n",
       "    <tr>\n",
       "      <th>4</th>\n",
       "      <td>covid</td>\n",
       "      <td>-0.089681</td>\n",
       "      <td>39.9</td>\n",
       "    </tr>\n",
       "    <tr>\n",
       "      <th>5</th>\n",
       "      <td>G7</td>\n",
       "      <td>0.059762</td>\n",
       "      <td>23.5</td>\n",
       "    </tr>\n",
       "    <tr>\n",
       "      <th>6</th>\n",
       "      <td>china</td>\n",
       "      <td>0.048433</td>\n",
       "      <td>22.7</td>\n",
       "    </tr>\n",
       "  </tbody>\n",
       "</table>\n",
       "</div>"
      ],
      "text/plain": [
       "       Issue  Sentiment Average  Length Average\n",
       "0  palestine           0.005629            27.5\n",
       "1       gaza           0.076667            34.7\n",
       "2     israel          -0.025000            32.3\n",
       "3  #EURO2020           0.028023            19.2\n",
       "4      covid          -0.089681            39.9\n",
       "5         G7           0.059762            23.5\n",
       "6      china           0.048433            22.7"
      ]
     },
     "metadata": {},
     "output_type": "display_data"
    }
   ],
   "source": [
    "display(df)"
   ]
  },
  {
   "cell_type": "code",
   "execution_count": 17,
   "id": "713ce483",
   "metadata": {},
   "outputs": [],
   "source": [
    "import matplotlib.pyplot as plt\n",
    "import numpy"
   ]
  },
  {
   "cell_type": "code",
   "execution_count": null,
   "id": "686970df",
   "metadata": {},
   "outputs": [],
   "source": [
    "#Show the data into bar diagrams"
   ]
  },
  {
   "cell_type": "code",
   "execution_count": 18,
   "id": "c4a4f84c",
   "metadata": {
    "scrolled": false
   },
   "outputs": [
    {
     "data": {
      "text/plain": [
       "<AxesSubplot:xlabel='Issue'>"
      ]
     },
     "execution_count": 18,
     "metadata": {},
     "output_type": "execute_result"
    },
    {
     "data": {
      "image/png": "[encoded data removed]",
      "text/plain": [
       "<Figure size 432x288 with 1 Axes>"
      ]
     },
     "metadata": {
      "needs_background": "light"
     },
     "output_type": "display_data"
    }
   ],
   "source": [
    "df.plot(x=\"Issue\", y=\"Sentiment Average\", kind='bar')"
   ]
  },
  {
   "cell_type": "code",
   "execution_count": 19,
   "id": "d17b1859",
   "metadata": {},
   "outputs": [
    {
     "data": {
      "text/plain": [
       "<AxesSubplot:xlabel='Issue'>"
      ]
     },
     "execution_count": 19,
     "metadata": {},
     "output_type": "execute_result"
    },
    {
     "data": {
      "image/png": "[encoded data removed]",
      "text/plain": [
       "<Figure size 432x288 with 1 Axes>"
      ]
     },
     "metadata": {
      "needs_background": "light"
     },
     "output_type": "display_data"
    }
   ],
   "source": [
    "df.plot(x=\"Issue\", y=\"Length Average\", kind='bar')"
   ]
  }
 ],
 "metadata": {
  "kernelspec": {
   "display_name": "Python 3",
   "language": "python",
   "name": "python3"
  },
  "language_info": {
   "codemirror_mode": {
    "name": "ipython",
    "version": 3
   },
   "file_extension": ".py",
   "mimetype": "text/x-python",
   "name": "python",
   "nbconvert_exporter": "python",
   "pygments_lexer": "ipython3",
   "version": "3.7.3"
  }
 },
 "nbformat": 4,
 "nbformat_minor": 5
}
